{
 "cells": [
  {
   "cell_type": "code",
   "execution_count": 1,
   "id": "fa0a41cc-d63a-4d25-876a-378ef2111163",
   "metadata": {},
   "outputs": [],
   "source": [
    "import pandas as pd"
   ]
  },
  {
   "cell_type": "code",
   "execution_count": 25,
   "id": "eb8050e1-7ec8-4a33-888d-669bd1832737",
   "metadata": {},
   "outputs": [],
   "source": [
    "import pandas as pd"
   ]
  },
  {
   "cell_type": "code",
   "execution_count": 29,
   "id": "43a3b52d-2387-4d98-a6bc-366e4ba033e6",
   "metadata": {},
   "outputs": [
    {
     "name": "stdout",
     "output_type": "stream",
     "text": [
      "Collecting package metadata (current_repodata.json): done\n",
      "Solving environment: done\n",
      "\n",
      "## Package Plan ##\n",
      "\n",
      "  environment location: /home/gmuhati/.conda/envs/clim_data\n",
      "\n",
      "  added / updated specs:\n",
      "    - seaborn\n",
      "\n",
      "\n",
      "The following packages will be downloaded:\n",
      "\n",
      "    package                    |            build\n",
      "    ---------------------------|-----------------\n",
      "    seaborn-0.12.2             |  py310h06a4308_0         491 KB\n",
      "    ------------------------------------------------------------\n",
      "                                           Total:         491 KB\n",
      "\n",
      "The following NEW packages will be INSTALLED:\n",
      "\n",
      "  seaborn            pkgs/main/linux-64::seaborn-0.12.2-py310h06a4308_0\n",
      "\n",
      "The following packages will be UPDATED:\n",
      "\n",
      "  ca-certificates    conda-forge::ca-certificates-2023.7.2~ --> pkgs/main::ca-certificates-2023.08.22-h06a4308_0\n",
      "\n",
      "The following packages will be SUPERSEDED by a higher-priority channel:\n",
      "\n",
      "  certifi            conda-forge/noarch::certifi-2023.7.22~ --> pkgs/main/linux-64::certifi-2023.7.22-py310h06a4308_0\n",
      "  openssl            conda-forge::openssl-1.1.1w-hd590300_0 --> pkgs/main::openssl-1.1.1w-h7f8727e_0\n",
      "\n",
      "\n",
      "\n",
      "Downloading and Extracting Packages\n",
      "seaborn-0.12.2       | 491 KB    | ##################################### | 100% \n",
      "Preparing transaction: done\n",
      "Verifying transaction: done\n",
      "Executing transaction: done\n",
      "Retrieving notices: ...working... done\n",
      "\n",
      "Note: you may need to restart the kernel to use updated packages.\n"
     ]
    }
   ],
   "source": [
    "conda install seaborn"
   ]
  },
  {
   "cell_type": "code",
   "execution_count": 1,
   "id": "36b5ab93-c5af-48c3-96ae-e14593461d58",
   "metadata": {},
   "outputs": [],
   "source": [
    "import pandas as pd\n"
   ]
  },
  {
   "cell_type": "code",
   "execution_count": 1,
   "id": "2eb6f55e-e4fc-4979-bfea-1cdb4c33d19e",
   "metadata": {},
   "outputs": [],
   "source": [
    "import pandas as pd"
   ]
  },
  {
   "cell_type": "code",
   "execution_count": 4,
   "id": "62847ed4-2ec5-4be3-9b8e-29e0acee0737",
   "metadata": {},
   "outputs": [],
   "source": [
    "df = pd.read_csv('/home/lortizur/clim680/pandas_data/gapminder_gdp_oceania.csv')"
   ]
  },
  {
   "cell_type": "code",
   "execution_count": 11,
   "id": "15b64b0c-0a12-4678-86ca-6d964848a325",
   "metadata": {},
   "outputs": [],
   "source": [
    "df = pd.read_csv('/home/lortizur/clim680/pandas_data/gapminder_gdp_oceania.csv')"
   ]
  },
  {
   "cell_type": "code",
   "execution_count": 12,
   "id": "ea4cba5d-de6c-4d10-ae80-3dcab23de50b",
   "metadata": {},
   "outputs": [
    {
     "name": "stdout",
     "output_type": "stream",
     "text": [
      "       country  gdpPercap_1952  gdpPercap_1957  gdpPercap_1962  \\\n",
      "0    Australia     10039.59564     10949.64959     12217.22686   \n",
      "1  New Zealand     10556.57566     12247.39532     13175.67800   \n",
      "\n",
      "   gdpPercap_1967  gdpPercap_1972  gdpPercap_1977  gdpPercap_1982  \\\n",
      "0     14526.12465     16788.62948     18334.19751     19477.00928   \n",
      "1     14463.91893     16046.03728     16233.71770     17632.41040   \n",
      "\n",
      "   gdpPercap_1987  gdpPercap_1992  gdpPercap_1997  gdpPercap_2002  \\\n",
      "0     21888.88903     23424.76683     26997.93657     30687.75473   \n",
      "1     19007.19129     18363.32494     21050.41377     23189.80135   \n",
      "\n",
      "   gdpPercap_2007  \n",
      "0     34435.36744  \n",
      "1     25185.00911  \n"
     ]
    }
   ],
   "source": [
    "print(df)"
   ]
  },
  {
   "cell_type": "code",
   "execution_count": 16,
   "id": "1ffe495a-0f3d-4d22-9720-032c94f27aa9",
   "metadata": {},
   "outputs": [
    {
     "name": "stdout",
     "output_type": "stream",
     "text": [
      "<class 'pandas.core.frame.DataFrame'>\n",
      "RangeIndex: 2 entries, 0 to 1\n",
      "Data columns (total 13 columns):\n",
      " #   Column          Non-Null Count  Dtype  \n",
      "---  ------          --------------  -----  \n",
      " 0   country         2 non-null      object \n",
      " 1   gdpPercap_1952  2 non-null      float64\n",
      " 2   gdpPercap_1957  2 non-null      float64\n",
      " 3   gdpPercap_1962  2 non-null      float64\n",
      " 4   gdpPercap_1967  2 non-null      float64\n",
      " 5   gdpPercap_1972  2 non-null      float64\n",
      " 6   gdpPercap_1977  2 non-null      float64\n",
      " 7   gdpPercap_1982  2 non-null      float64\n",
      " 8   gdpPercap_1987  2 non-null      float64\n",
      " 9   gdpPercap_1992  2 non-null      float64\n",
      " 10  gdpPercap_1997  2 non-null      float64\n",
      " 11  gdpPercap_2002  2 non-null      float64\n",
      " 12  gdpPercap_2007  2 non-null      float64\n",
      "dtypes: float64(12), object(1)\n",
      "memory usage: 336.0+ bytes\n"
     ]
    }
   ],
   "source": [
    "df.info()"
   ]
  },
  {
   "cell_type": "code",
   "execution_count": 20,
   "id": "23ff85b6-340c-4967-b173-f3a5d64cd261",
   "metadata": {},
   "outputs": [
    {
     "name": "stdout",
     "output_type": "stream",
     "text": [
      "Index(['country', 'gdpPercap_1952', 'gdpPercap_1957', 'gdpPercap_1962',\n",
      "       'gdpPercap_1967', 'gdpPercap_1972', 'gdpPercap_1977', 'gdpPercap_1982',\n",
      "       'gdpPercap_1987', 'gdpPercap_1992', 'gdpPercap_1997', 'gdpPercap_2002',\n",
      "       'gdpPercap_2007'],\n",
      "      dtype='object')\n"
     ]
    }
   ],
   "source": [
    "\n",
    "column_names = df.columns\n",
    "print(column_names)"
   ]
  },
  {
   "cell_type": "code",
   "execution_count": 23,
   "id": "f4a58c9d-366a-4644-852b-a2dcf6b16348",
   "metadata": {},
   "outputs": [],
   "source": [
    "data_oceania_country = pd.read_csv('/home/lortizur/clim680/pandas_data/gapminder_gdp_oceania.csv')"
   ]
  },
  {
   "cell_type": "code",
   "execution_count": 24,
   "id": "55a89383-a4e2-451c-ace2-dc4f07e863e2",
   "metadata": {},
   "outputs": [
    {
     "name": "stdout",
     "output_type": "stream",
     "text": [
      "                          0            1\n",
      "country           Australia  New Zealand\n",
      "gdpPercap_1952  10039.59564  10556.57566\n",
      "gdpPercap_1957  10949.64959  12247.39532\n",
      "gdpPercap_1962  12217.22686    13175.678\n",
      "gdpPercap_1967  14526.12465  14463.91893\n",
      "gdpPercap_1972  16788.62948  16046.03728\n",
      "gdpPercap_1977  18334.19751   16233.7177\n",
      "gdpPercap_1982  19477.00928   17632.4104\n",
      "gdpPercap_1987  21888.88903  19007.19129\n",
      "gdpPercap_1992  23424.76683  18363.32494\n",
      "gdpPercap_1997  26997.93657  21050.41377\n",
      "gdpPercap_2002  30687.75473  23189.80135\n",
      "gdpPercap_2007  34435.36744  25185.00911\n"
     ]
    }
   ],
   "source": [
    "print(data_oceania_country.T)"
   ]
  },
  {
   "cell_type": "code",
   "execution_count": 25,
   "id": "4515cf84-d33d-45f3-bc6e-3ccc367487b5",
   "metadata": {},
   "outputs": [
    {
     "name": "stdout",
     "output_type": "stream",
     "text": [
      "       gdpPercap_1952  gdpPercap_1957  gdpPercap_1962  gdpPercap_1967  \\\n",
      "count        2.000000        2.000000        2.000000        2.000000   \n",
      "mean     10298.085650    11598.522455    12696.452430    14495.021790   \n",
      "std        365.560078      917.644806      677.727301       43.986086   \n",
      "min      10039.595640    10949.649590    12217.226860    14463.918930   \n",
      "25%      10168.840645    11274.086022    12456.839645    14479.470360   \n",
      "50%      10298.085650    11598.522455    12696.452430    14495.021790   \n",
      "75%      10427.330655    11922.958888    12936.065215    14510.573220   \n",
      "max      10556.575660    12247.395320    13175.678000    14526.124650   \n",
      "\n",
      "       gdpPercap_1972  gdpPercap_1977  gdpPercap_1982  gdpPercap_1987  \\\n",
      "count         2.00000        2.000000        2.000000        2.000000   \n",
      "mean      16417.33338    17283.957605    18554.709840    20448.040160   \n",
      "std         525.09198     1485.263517     1304.328377     2037.668013   \n",
      "min       16046.03728    16233.717700    17632.410400    19007.191290   \n",
      "25%       16231.68533    16758.837652    18093.560120    19727.615725   \n",
      "50%       16417.33338    17283.957605    18554.709840    20448.040160   \n",
      "75%       16602.98143    17809.077558    19015.859560    21168.464595   \n",
      "max       16788.62948    18334.197510    19477.009280    21888.889030   \n",
      "\n",
      "       gdpPercap_1992  gdpPercap_1997  gdpPercap_2002  gdpPercap_2007  \n",
      "count        2.000000        2.000000        2.000000        2.000000  \n",
      "mean     20894.045885    24024.175170    26938.778040    29810.188275  \n",
      "std       3578.979883     4205.533703     5301.853680     6540.991104  \n",
      "min      18363.324940    21050.413770    23189.801350    25185.009110  \n",
      "25%      19628.685412    22537.294470    25064.289695    27497.598692  \n",
      "50%      20894.045885    24024.175170    26938.778040    29810.188275  \n",
      "75%      22159.406358    25511.055870    28813.266385    32122.777858  \n",
      "max      23424.766830    26997.936570    30687.754730    34435.367440  \n"
     ]
    }
   ],
   "source": [
    "print(data_oceania_country.describe())"
   ]
  },
  {
   "cell_type": "code",
   "execution_count": null,
   "id": "01385700-f245-430c-b08d-2f4e7be00f30",
   "metadata": {},
   "outputs": [],
   "source": []
  }
 ],
 "metadata": {
  "kernelspec": {
   "display_name": "clim_data",
   "language": "python",
   "name": "clim_data"
  },
  "language_info": {
   "codemirror_mode": {
    "name": "ipython",
    "version": 3
   },
   "file_extension": ".py",
   "mimetype": "text/x-python",
   "name": "python",
   "nbconvert_exporter": "python",
   "pygments_lexer": "ipython3",
   "version": "3.10.4"
  }
 },
 "nbformat": 4,
 "nbformat_minor": 5
}
