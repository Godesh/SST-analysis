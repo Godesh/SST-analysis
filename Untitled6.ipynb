{
 "cells": [
  {
   "cell_type": "code",
   "execution_count": 1,
   "id": "1254d9a6-237d-435b-b3b7-ee0c0ab6978e",
   "metadata": {},
   "outputs": [],
   "source": [
    "import matplotlib.pyplot as plt\n",
    "import xarray as xr\n",
    "import numpy as np\n",
    "import cartopy.crs as ccrs\n",
    "import cartopy.feature as cfeature"
   ]
  },
  {
   "cell_type": "code",
   "execution_count": null,
   "id": "dafbe891-7d5b-47ab-aaa4-b9b13b2d3feb",
   "metadata": {},
   "outputs": [],
   "source": [
    "url = 'http://iridl.ldeo.columbia.edu/SOURCES/.Models/.NMME/.COLA-RSMAS-CCSM4/.MONTHLY/.sst/dods'"
   ]
  },
  {
   "cell_type": "code",
   "execution_count": null,
   "id": "936ec2a9-a35d-401a-94a2-3b2f529536f3",
   "metadata": {},
   "outputs": [],
   "source": [
    "ds =xr.open_dataset(url, decode_times=False)"
   ]
  },
  {
   "cell_type": "raw",
   "id": "16ffe7b9-70dd-478d-810f-94423c1cde1c",
   "metadata": {},
   "source": [
    "ds"
   ]
  }
 ],
 "metadata": {
  "kernelspec": {
   "display_name": "clim_data",
   "language": "python",
   "name": "clim_data"
  },
  "language_info": {
   "codemirror_mode": {
    "name": "ipython",
    "version": 3
   },
   "file_extension": ".py",
   "mimetype": "text/x-python",
   "name": "python",
   "nbconvert_exporter": "python",
   "pygments_lexer": "ipython3",
   "version": "3.10.4"
  }
 },
 "nbformat": 4,
 "nbformat_minor": 5
}
